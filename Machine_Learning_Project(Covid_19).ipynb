{
  "cells": [
    {
      "cell_type": "markdown",
      "source": [
        "**IMPORTING LIBRARIES**"
      ],
      "metadata": {
        "id": "54f2Me3kE3Qi"
      }
    },
    {
      "source": [
        "import pandas as pd\n",
        "import matplotlib.pyplot as plt\n",
        "from matplotlib import style"
      ],
      "cell_type": "code",
      "metadata": {
        "id": "ptZc7remwgIO"
      },
      "execution_count": null,
      "outputs": []
    },
    {
      "cell_type": "code",
      "source": [
        "%matplotlib inline\n",
        "import plotly\n",
        "import plotly.express as px\n",
        "import plotly.graph_objects as go\n",
        "import seaborn as sns"
      ],
      "metadata": {
        "id": "DTSAHsNRZiis"
      },
      "execution_count": null,
      "outputs": []
    },
    {
      "cell_type": "code",
      "source": [
        "import numpy as np\n",
        "from sklearn.linear_model import LinearRegression\n",
        "from sklearn.svm import SVR\n",
        "from sklearn.preprocessing import StandardScaler\n",
        "from sklearn.pipeline import make_pipeline\n",
        "from statsmodels.tsa.holtwinters import ExponentialSmoothing\n",
        "import requests\n",
        "from sklearn.model_selection import train_test_split"
      ],
      "metadata": {
        "id": "Fw24BqlTZgGn"
      },
      "execution_count": null,
      "outputs": []
    },
    {
      "cell_type": "markdown",
      "source": [
        "**LOADING DATASET'S URL**"
      ],
      "metadata": {
        "id": "zA3a8eJZEzaa"
      }
    },
    {
      "source": [
        "confirmed_filepath = pd.read_csv('/content/time_series_covid19_confirmed_global.csv')\n",
        "death_filepath = '/content/time_series_covid19_deaths_global.csv'\n",
        "recovered_filepath = '/content/time_series_covid19_recovered_global.csv'"
      ],
      "cell_type": "code",
      "metadata": {
        "id": "92R9LXgEwhps"
      },
      "execution_count": null,
      "outputs": []
    },
    {
      "cell_type": "markdown",
      "source": [
        "**APPLY THE LINEAR REGRESSION AND SVM MODEL ON CONFIRMED_CASES**"
      ],
      "metadata": {
        "id": "x4VzLsIXWGvt"
      }
    },
    {
      "cell_type": "markdown",
      "source": [
        "**LINEAR REGRESSION**"
      ],
      "metadata": {
        "id": "eZthkzk4SHUR"
      }
    },
    {
      "cell_type": "code",
      "source": [
        "confirmed_global = confirmed_filepath.iloc[:, 4:].sum(axis=0)\n",
        "\n",
        "# Dates\n",
        "dates = pd.to_datetime(confirmed_filepath.columns[4:])\n",
        "\n",
        "# Prepare data for modeling\n",
        "X = pd.to_numeric(pd.to_datetime(dates)).values.reshape(-1, 1)\n",
        "y = confirmed_global.values"
      ],
      "metadata": {
        "id": "SgIZkT5ANKEZ"
      },
      "execution_count": null,
      "outputs": []
    },
    {
      "cell_type": "code",
      "source": [
        "# Linear Regression model\n",
        "linear_reg_model = LinearRegression()\n",
        "linear_reg_model.fit(X, y)"
      ],
      "metadata": {
        "id": "leN1h4cKZoJ2",
        "colab": {
          "base_uri": "https://localhost:8080/",
          "height": 74
        },
        "outputId": "62962987-b810-4fc6-b363-4928dc16ef67"
      },
      "execution_count": null,
      "outputs": [
        {
          "output_type": "execute_result",
          "data": {
            "text/plain": [
              "LinearRegression()"
            ],
            "text/html": [
              "<style>#sk-container-id-1 {color: black;background-color: white;}#sk-container-id-1 pre{padding: 0;}#sk-container-id-1 div.sk-toggleable {background-color: white;}#sk-container-id-1 label.sk-toggleable__label {cursor: pointer;display: block;width: 100%;margin-bottom: 0;padding: 0.3em;box-sizing: border-box;text-align: center;}#sk-container-id-1 label.sk-toggleable__label-arrow:before {content: \"▸\";float: left;margin-right: 0.25em;color: #696969;}#sk-container-id-1 label.sk-toggleable__label-arrow:hover:before {color: black;}#sk-container-id-1 div.sk-estimator:hover label.sk-toggleable__label-arrow:before {color: black;}#sk-container-id-1 div.sk-toggleable__content {max-height: 0;max-width: 0;overflow: hidden;text-align: left;background-color: #f0f8ff;}#sk-container-id-1 div.sk-toggleable__content pre {margin: 0.2em;color: black;border-radius: 0.25em;background-color: #f0f8ff;}#sk-container-id-1 input.sk-toggleable__control:checked~div.sk-toggleable__content {max-height: 200px;max-width: 100%;overflow: auto;}#sk-container-id-1 input.sk-toggleable__control:checked~label.sk-toggleable__label-arrow:before {content: \"▾\";}#sk-container-id-1 div.sk-estimator input.sk-toggleable__control:checked~label.sk-toggleable__label {background-color: #d4ebff;}#sk-container-id-1 div.sk-label input.sk-toggleable__control:checked~label.sk-toggleable__label {background-color: #d4ebff;}#sk-container-id-1 input.sk-hidden--visually {border: 0;clip: rect(1px 1px 1px 1px);clip: rect(1px, 1px, 1px, 1px);height: 1px;margin: -1px;overflow: hidden;padding: 0;position: absolute;width: 1px;}#sk-container-id-1 div.sk-estimator {font-family: monospace;background-color: #f0f8ff;border: 1px dotted black;border-radius: 0.25em;box-sizing: border-box;margin-bottom: 0.5em;}#sk-container-id-1 div.sk-estimator:hover {background-color: #d4ebff;}#sk-container-id-1 div.sk-parallel-item::after {content: \"\";width: 100%;border-bottom: 1px solid gray;flex-grow: 1;}#sk-container-id-1 div.sk-label:hover label.sk-toggleable__label {background-color: #d4ebff;}#sk-container-id-1 div.sk-serial::before {content: \"\";position: absolute;border-left: 1px solid gray;box-sizing: border-box;top: 0;bottom: 0;left: 50%;z-index: 0;}#sk-container-id-1 div.sk-serial {display: flex;flex-direction: column;align-items: center;background-color: white;padding-right: 0.2em;padding-left: 0.2em;position: relative;}#sk-container-id-1 div.sk-item {position: relative;z-index: 1;}#sk-container-id-1 div.sk-parallel {display: flex;align-items: stretch;justify-content: center;background-color: white;position: relative;}#sk-container-id-1 div.sk-item::before, #sk-container-id-1 div.sk-parallel-item::before {content: \"\";position: absolute;border-left: 1px solid gray;box-sizing: border-box;top: 0;bottom: 0;left: 50%;z-index: -1;}#sk-container-id-1 div.sk-parallel-item {display: flex;flex-direction: column;z-index: 1;position: relative;background-color: white;}#sk-container-id-1 div.sk-parallel-item:first-child::after {align-self: flex-end;width: 50%;}#sk-container-id-1 div.sk-parallel-item:last-child::after {align-self: flex-start;width: 50%;}#sk-container-id-1 div.sk-parallel-item:only-child::after {width: 0;}#sk-container-id-1 div.sk-dashed-wrapped {border: 1px dashed gray;margin: 0 0.4em 0.5em 0.4em;box-sizing: border-box;padding-bottom: 0.4em;background-color: white;}#sk-container-id-1 div.sk-label label {font-family: monospace;font-weight: bold;display: inline-block;line-height: 1.2em;}#sk-container-id-1 div.sk-label-container {text-align: center;}#sk-container-id-1 div.sk-container {/* jupyter's `normalize.less` sets `[hidden] { display: none; }` but bootstrap.min.css set `[hidden] { display: none !important; }` so we also need the `!important` here to be able to override the default hidden behavior on the sphinx rendered scikit-learn.org. See: https://github.com/scikit-learn/scikit-learn/issues/21755 */display: inline-block !important;position: relative;}#sk-container-id-1 div.sk-text-repr-fallback {display: none;}</style><div id=\"sk-container-id-1\" class=\"sk-top-container\"><div class=\"sk-text-repr-fallback\"><pre>LinearRegression()</pre><b>In a Jupyter environment, please rerun this cell to show the HTML representation or trust the notebook. <br />On GitHub, the HTML representation is unable to render, please try loading this page with nbviewer.org.</b></div><div class=\"sk-container\" hidden><div class=\"sk-item\"><div class=\"sk-estimator sk-toggleable\"><input class=\"sk-toggleable__control sk-hidden--visually\" id=\"sk-estimator-id-1\" type=\"checkbox\" checked><label for=\"sk-estimator-id-1\" class=\"sk-toggleable__label sk-toggleable__label-arrow\">LinearRegression</label><div class=\"sk-toggleable__content\"><pre>LinearRegression()</pre></div></div></div></div></div>"
            ]
          },
          "metadata": {},
          "execution_count": 6
        }
      ]
    },
    {
      "cell_type": "code",
      "source": [
        "# Predictions\n",
        "linear_reg_output = linear_reg_model.predict(X)"
      ],
      "metadata": {
        "id": "qEMI8QB9d8tH"
      },
      "execution_count": null,
      "outputs": []
    },
    {
      "cell_type": "code",
      "source": [
        "# Output\n",
        "output_lr_df = pd.DataFrame({\n",
        "    'Dates': dates,\n",
        "    'Linear Regression Output': linear_reg_output\n",
        "})"
      ],
      "metadata": {
        "id": "EkUaJ-UfZoHt"
      },
      "execution_count": null,
      "outputs": []
    },
    {
      "cell_type": "code",
      "source": [
        "# Filter the DataFrame for the specified date range\n",
        "start_date = '2020-12-07'\n",
        "end_date = '2020-12-10'\n",
        "target_data = output_lr_df[(output_lr_df['Dates'] >= start_date) & (output_lr_df['Dates'] <= end_date)]"
      ],
      "metadata": {
        "id": "dNUUHEP7ZoEb"
      },
      "execution_count": null,
      "outputs": []
    },
    {
      "cell_type": "code",
      "source": [
        "# Display the filtered data\n",
        "print(target_data)"
      ],
      "metadata": {
        "colab": {
          "base_uri": "https://localhost:8080/"
        },
        "id": "rNJdcZT-ZoBo",
        "outputId": "2a4c13b5-4c04-4f16-cf38-4868ed3a1f35"
      },
      "execution_count": null,
      "outputs": [
        {
          "output_type": "stream",
          "name": "stdout",
          "text": [
            "         Dates  Linear Regression Output\n",
            "320 2020-12-07              9.973938e+07\n",
            "321 2020-12-08              1.004466e+08\n",
            "322 2020-12-09              1.011539e+08\n",
            "323 2020-12-10              1.018612e+08\n"
          ]
        }
      ]
    },
    {
      "cell_type": "markdown",
      "source": [
        "**SVM**"
      ],
      "metadata": {
        "id": "2LTZO0t_Qoeu"
      }
    },
    {
      "cell_type": "code",
      "source": [
        "confirmed_global = confirmed_filepath.iloc[:, 4:].sum(axis=0)\n",
        "\n",
        "# Dates\n",
        "dates = pd.to_datetime(confirmed_filepath.columns[4:])\n",
        "\n",
        "# Prepare data for modeling\n",
        "X = pd.to_numeric(pd.to_datetime(dates)).values.reshape(-1, 1)\n",
        "y = confirmed_global.values"
      ],
      "metadata": {
        "id": "ApwHAbbSWTiv"
      },
      "execution_count": null,
      "outputs": []
    },
    {
      "cell_type": "code",
      "source": [
        "# Support Vector Machine model\n",
        "svm_model = make_pipeline(StandardScaler(), SVR(kernel='linear'))\n",
        "svm_model.fit(X, y)\n",
        "\n",
        "# Predictions\n",
        "svm_output = svm_model.predict(X)"
      ],
      "metadata": {
        "id": "-5uz3lJ6aAtN"
      },
      "execution_count": null,
      "outputs": []
    },
    {
      "cell_type": "code",
      "source": [
        "# Output\n",
        "output_svm_df = pd.DataFrame({\n",
        "    'Dates': dates,\n",
        "    'Support Vector Machine Output': svm_output\n",
        "})"
      ],
      "metadata": {
        "id": "QpRhwOtKaAqa"
      },
      "execution_count": null,
      "outputs": []
    },
    {
      "cell_type": "code",
      "source": [
        "# Filter the DataFrame for the specified date range\n",
        "start_date = '2020-12-07'\n",
        "end_date = '2020-12-10'\n",
        "target_datasvm = output_svm_df[(output_lr_df['Dates'] >= start_date) & (output_lr_df['Dates'] <= end_date)]"
      ],
      "metadata": {
        "id": "ydmDcDS8aAnm"
      },
      "execution_count": null,
      "outputs": []
    },
    {
      "cell_type": "code",
      "source": [
        "print(target_datasvm)"
      ],
      "metadata": {
        "colab": {
          "base_uri": "https://localhost:8080/"
        },
        "id": "4dZOMNdAaAk_",
        "outputId": "e1ef7018-5269-4a98-a4c5-1f3e6ffd8688"
      },
      "execution_count": null,
      "outputs": [
        {
          "output_type": "stream",
          "name": "stdout",
          "text": [
            "         Dates  Support Vector Machine Output\n",
            "320 2020-12-07                    207814696.0\n",
            "321 2020-12-08                    207814699.0\n",
            "322 2020-12-09                    207814702.0\n",
            "323 2020-12-10                    207814705.0\n"
          ]
        }
      ]
    },
    {
      "cell_type": "markdown",
      "source": [
        "**Comparison of LR and SVM for confirmed cases**"
      ],
      "metadata": {
        "id": "g-eBa2YHEAb0"
      }
    },
    {
      "cell_type": "code",
      "source": [
        "#LR\n",
        "start_date = '2020-12-07'\n",
        "end_date = '2020-12-10'\n",
        "target_data = output_lr_df[(output_lr_df['Dates'] >= start_date) & (output_lr_df['Dates'] <= end_date)]\n",
        "\n",
        "print(target_data)"
      ],
      "metadata": {
        "colab": {
          "base_uri": "https://localhost:8080/"
        },
        "id": "-O_mzyUkSdVw",
        "outputId": "d619d03e-9dc9-48eb-ca04-42600ae1efe6"
      },
      "execution_count": null,
      "outputs": [
        {
          "output_type": "stream",
          "name": "stdout",
          "text": [
            "         Dates  Linear Regression Output\n",
            "320 2020-12-07              9.973938e+07\n",
            "321 2020-12-08              1.004466e+08\n",
            "322 2020-12-09              1.011539e+08\n",
            "323 2020-12-10              1.018612e+08\n"
          ]
        }
      ]
    },
    {
      "cell_type": "code",
      "source": [
        "#SVM\n",
        "start_date = '2020-12-07'\n",
        "end_date = '2020-12-10'\n",
        "target_datasvm = output_svm_df[(output_lr_df['Dates'] >= start_date) & (output_lr_df['Dates'] <= end_date)]\n",
        "\n",
        "print(target_datasvm)"
      ],
      "metadata": {
        "colab": {
          "base_uri": "https://localhost:8080/"
        },
        "id": "PbmRNJL5aSju",
        "outputId": "aeff7375-2903-4a3b-a658-26857ad6afe4"
      },
      "execution_count": null,
      "outputs": [
        {
          "output_type": "stream",
          "name": "stdout",
          "text": [
            "         Dates  Support Vector Machine Output\n",
            "320 2020-12-07                    207814696.0\n",
            "321 2020-12-08                    207814699.0\n",
            "322 2020-12-09                    207814702.0\n",
            "323 2020-12-10                    207814705.0\n"
          ]
        }
      ]
    },
    {
      "cell_type": "markdown",
      "source": [
        "**Total number of confirmed cases**\n",
        "\n",
        "---\n",
        "\n"
      ],
      "metadata": {
        "id": "yiq9lEPHFPtR"
      }
    },
    {
      "cell_type": "code",
      "source": [
        "total_confirmedcases = confirmed_filepath.iloc[:, 4:].sum().sum()"
      ],
      "metadata": {
        "id": "1KbX05aHFTuP"
      },
      "execution_count": null,
      "outputs": []
    },
    {
      "cell_type": "code",
      "source": [
        "print(\"Total number of confirmed cases:\", total_confirmedcases)"
      ],
      "metadata": {
        "colab": {
          "base_uri": "https://localhost:8080/"
        },
        "id": "m943vbFaaWKg",
        "outputId": "3eb37245-8188-40fd-9362-e13f9bd2d8da"
      },
      "execution_count": null,
      "outputs": [
        {
          "output_type": "stream",
          "name": "stdout",
          "text": [
            "Total number of confirmed cases: 316910296319\n"
          ]
        }
      ]
    },
    {
      "cell_type": "markdown",
      "source": [
        "**APPLY HOLT'S WINTERS MODEL\n",
        "Holt-Winters is a model of time series behavior. Forecasting always requires a model, and Holt-Winters is a way to model three aspects of the time series: a typical value (average), a slope (trend) over time, and a cyclical repeating pattern (seasonality).**"
      ],
      "metadata": {
        "id": "H7DnaT2qGxjU"
      }
    },
    {
      "cell_type": "code",
      "source": [
        "dates = pd.to_datetime(confirmed_filepath.columns[4:])\n",
        "actual_cases = confirmed_filepath.iloc[:, 4:].sum(axis=0)"
      ],
      "metadata": {
        "id": "mZPXqfGQna4-"
      },
      "execution_count": null,
      "outputs": []
    },
    {
      "cell_type": "code",
      "source": [
        "# Train Linear Regression\n",
        "lr_model = LinearRegression()\n",
        "lr_model.fit(pd.to_numeric(dates).values.reshape(-1, 1), actual_cases)"
      ],
      "metadata": {
        "colab": {
          "base_uri": "https://localhost:8080/",
          "height": 74
        },
        "id": "UwCC6BfaaZiZ",
        "outputId": "ab59e801-0134-46de-9614-c1d91ee7aff8"
      },
      "execution_count": null,
      "outputs": [
        {
          "output_type": "execute_result",
          "data": {
            "text/plain": [
              "LinearRegression()"
            ],
            "text/html": [
              "<style>#sk-container-id-2 {color: black;background-color: white;}#sk-container-id-2 pre{padding: 0;}#sk-container-id-2 div.sk-toggleable {background-color: white;}#sk-container-id-2 label.sk-toggleable__label {cursor: pointer;display: block;width: 100%;margin-bottom: 0;padding: 0.3em;box-sizing: border-box;text-align: center;}#sk-container-id-2 label.sk-toggleable__label-arrow:before {content: \"▸\";float: left;margin-right: 0.25em;color: #696969;}#sk-container-id-2 label.sk-toggleable__label-arrow:hover:before {color: black;}#sk-container-id-2 div.sk-estimator:hover label.sk-toggleable__label-arrow:before {color: black;}#sk-container-id-2 div.sk-toggleable__content {max-height: 0;max-width: 0;overflow: hidden;text-align: left;background-color: #f0f8ff;}#sk-container-id-2 div.sk-toggleable__content pre {margin: 0.2em;color: black;border-radius: 0.25em;background-color: #f0f8ff;}#sk-container-id-2 input.sk-toggleable__control:checked~div.sk-toggleable__content {max-height: 200px;max-width: 100%;overflow: auto;}#sk-container-id-2 input.sk-toggleable__control:checked~label.sk-toggleable__label-arrow:before {content: \"▾\";}#sk-container-id-2 div.sk-estimator input.sk-toggleable__control:checked~label.sk-toggleable__label {background-color: #d4ebff;}#sk-container-id-2 div.sk-label input.sk-toggleable__control:checked~label.sk-toggleable__label {background-color: #d4ebff;}#sk-container-id-2 input.sk-hidden--visually {border: 0;clip: rect(1px 1px 1px 1px);clip: rect(1px, 1px, 1px, 1px);height: 1px;margin: -1px;overflow: hidden;padding: 0;position: absolute;width: 1px;}#sk-container-id-2 div.sk-estimator {font-family: monospace;background-color: #f0f8ff;border: 1px dotted black;border-radius: 0.25em;box-sizing: border-box;margin-bottom: 0.5em;}#sk-container-id-2 div.sk-estimator:hover {background-color: #d4ebff;}#sk-container-id-2 div.sk-parallel-item::after {content: \"\";width: 100%;border-bottom: 1px solid gray;flex-grow: 1;}#sk-container-id-2 div.sk-label:hover label.sk-toggleable__label {background-color: #d4ebff;}#sk-container-id-2 div.sk-serial::before {content: \"\";position: absolute;border-left: 1px solid gray;box-sizing: border-box;top: 0;bottom: 0;left: 50%;z-index: 0;}#sk-container-id-2 div.sk-serial {display: flex;flex-direction: column;align-items: center;background-color: white;padding-right: 0.2em;padding-left: 0.2em;position: relative;}#sk-container-id-2 div.sk-item {position: relative;z-index: 1;}#sk-container-id-2 div.sk-parallel {display: flex;align-items: stretch;justify-content: center;background-color: white;position: relative;}#sk-container-id-2 div.sk-item::before, #sk-container-id-2 div.sk-parallel-item::before {content: \"\";position: absolute;border-left: 1px solid gray;box-sizing: border-box;top: 0;bottom: 0;left: 50%;z-index: -1;}#sk-container-id-2 div.sk-parallel-item {display: flex;flex-direction: column;z-index: 1;position: relative;background-color: white;}#sk-container-id-2 div.sk-parallel-item:first-child::after {align-self: flex-end;width: 50%;}#sk-container-id-2 div.sk-parallel-item:last-child::after {align-self: flex-start;width: 50%;}#sk-container-id-2 div.sk-parallel-item:only-child::after {width: 0;}#sk-container-id-2 div.sk-dashed-wrapped {border: 1px dashed gray;margin: 0 0.4em 0.5em 0.4em;box-sizing: border-box;padding-bottom: 0.4em;background-color: white;}#sk-container-id-2 div.sk-label label {font-family: monospace;font-weight: bold;display: inline-block;line-height: 1.2em;}#sk-container-id-2 div.sk-label-container {text-align: center;}#sk-container-id-2 div.sk-container {/* jupyter's `normalize.less` sets `[hidden] { display: none; }` but bootstrap.min.css set `[hidden] { display: none !important; }` so we also need the `!important` here to be able to override the default hidden behavior on the sphinx rendered scikit-learn.org. See: https://github.com/scikit-learn/scikit-learn/issues/21755 */display: inline-block !important;position: relative;}#sk-container-id-2 div.sk-text-repr-fallback {display: none;}</style><div id=\"sk-container-id-2\" class=\"sk-top-container\"><div class=\"sk-text-repr-fallback\"><pre>LinearRegression()</pre><b>In a Jupyter environment, please rerun this cell to show the HTML representation or trust the notebook. <br />On GitHub, the HTML representation is unable to render, please try loading this page with nbviewer.org.</b></div><div class=\"sk-container\" hidden><div class=\"sk-item\"><div class=\"sk-estimator sk-toggleable\"><input class=\"sk-toggleable__control sk-hidden--visually\" id=\"sk-estimator-id-2\" type=\"checkbox\" checked><label for=\"sk-estimator-id-2\" class=\"sk-toggleable__label sk-toggleable__label-arrow\">LinearRegression</label><div class=\"sk-toggleable__content\"><pre>LinearRegression()</pre></div></div></div></div></div>"
            ]
          },
          "metadata": {},
          "execution_count": 21
        }
      ]
    },
    {
      "cell_type": "code",
      "source": [
        "# Train Holt-Winters\n",
        "holt_winters_model = ExponentialSmoothing(actual_cases, seasonal='add', trend='add', seasonal_periods=7)\n",
        "holt_winters_fit = holt_winters_model.fit()"
      ],
      "metadata": {
        "colab": {
          "base_uri": "https://localhost:8080/"
        },
        "id": "bronIUeoaZgD",
        "outputId": "61e05b25-7929-45c7-9f26-f42bbfe8ccc2"
      },
      "execution_count": null,
      "outputs": [
        {
          "output_type": "stream",
          "name": "stderr",
          "text": [
            "/usr/local/lib/python3.10/dist-packages/statsmodels/tsa/base/tsa_model.py:473: ValueWarning: No frequency information was provided, so inferred frequency D will be used.\n",
            "  self._init_dates(dates, freq)\n",
            "/usr/local/lib/python3.10/dist-packages/statsmodels/tsa/holtwinters/model.py:918: ConvergenceWarning: Optimization failed to converge. Check mle_retvals.\n",
            "  warnings.warn(\n"
          ]
        }
      ]
    },
    {
      "cell_type": "code",
      "source": [
        "lr_predictions = lr_model.predict(pd.to_numeric(dates).values.reshape(-1, 1))"
      ],
      "metadata": {
        "id": "bljI19RlaZdM"
      },
      "execution_count": null,
      "outputs": []
    },
    {
      "cell_type": "code",
      "source": [
        "holt_winters_predictions = holt_winters_fit.predict(start=0, end=len(dates) - 1)"
      ],
      "metadata": {
        "id": "XPmmToyRaZaW"
      },
      "execution_count": null,
      "outputs": []
    },
    {
      "cell_type": "code",
      "source": [
        "#comparison\n",
        "comparison_df = pd.DataFrame({\n",
        "    'Dates': dates,\n",
        "    'LR': lr_predictions,\n",
        "    'Holt-Winters Model Prediction': holt_winters_predictions,\n",
        "    'Real data of total global confirmed cases': actual_cases.values\n",
        "})"
      ],
      "metadata": {
        "id": "h_u0y_SvaZXa"
      },
      "execution_count": null,
      "outputs": []
    },
    {
      "cell_type": "code",
      "source": [
        "start_date = '2020-12-07'\n",
        "end_date = '2020-12-11'\n",
        "filtered_comparison_df = comparison_df[(comparison_df['Dates'] >= start_date) & (comparison_df['Dates'] <= end_date)]\n",
        "print(filtered_comparison_df)"
      ],
      "metadata": {
        "colab": {
          "base_uri": "https://localhost:8080/"
        },
        "id": "x-RgWQ6YaZUZ",
        "outputId": "e9568a91-7a5c-474f-989f-d3070da1268f"
      },
      "execution_count": null,
      "outputs": [
        {
          "output_type": "stream",
          "name": "stdout",
          "text": [
            "                Dates            LR  Holt-Winters Model Prediction  \\\n",
            "2020-12-07 2020-12-07  9.973938e+07                   6.790916e+07   \n",
            "2020-12-08 2020-12-08  1.004466e+08                   6.836633e+07   \n",
            "2020-12-09 2020-12-09  1.011539e+08                   6.899562e+07   \n",
            "2020-12-10 2020-12-10  1.018612e+08                   6.970062e+07   \n",
            "2020-12-11 2020-12-11  1.025684e+08                   7.178274e+07   \n",
            "\n",
            "            Real data of total global confirmed cases  \n",
            "2020-12-07                                   67785484  \n",
            "2020-12-08                                   68416150  \n",
            "2020-12-09                                   69081500  \n",
            "2020-12-10                                   70576907  \n",
            "2020-12-11                                   71282658  \n"
          ]
        }
      ]
    },
    {
      "cell_type": "markdown",
      "source": [
        "**SVR MODEL**"
      ],
      "metadata": {
        "id": "Apb-2cgwgu8K"
      }
    },
    {
      "cell_type": "code",
      "source": [
        "# # Train Support Vector Regression (SVR) model\n",
        "# svr_model = SVR(kernel='linear')\n",
        "# svr_model.fit(pd.to_numeric(dates).values.reshape(-1, 1), actual_cases)\n",
        "\n",
        "# svr_predictions = svr_model.predict(pd.to_numeric(dates).values.reshape(-1, 1))\n",
        "# comparison_df = pd.DataFrame({\n",
        "#     'SVR': svr_predictions,\n",
        "# })\n",
        "\n",
        "# start_date = '2020-12-07'\n",
        "# end_date = '2020-12-07'\n",
        "# filtered_comparison_df = comparison_df[(comparison_df['Dates'] >= start_date) & (comparison_df['Dates'] <= end_date)]\n",
        "\n",
        "# print(filtered_comparison_df)"
      ],
      "metadata": {
        "id": "JQMPetXBoW2d"
      },
      "execution_count": null,
      "outputs": []
    },
    {
      "cell_type": "markdown",
      "source": [
        "**Results of Growth of Cases Monthly.**"
      ],
      "metadata": {
        "id": "bZEHZ3iFnA52"
      }
    },
    {
      "cell_type": "code",
      "source": [
        "confirmed_data = confirmed_filepath\n",
        "death_data = pd.read_csv(death_filepath)\n",
        "recovered_data = pd.read_csv(recovered_filepath)"
      ],
      "metadata": {
        "id": "KQzznYNofFOD"
      },
      "execution_count": null,
      "outputs": []
    },
    {
      "cell_type": "code",
      "source": [
        "# Transform the data to long format\n",
        "confirmed_data_long = confirmed_data.melt(id_vars=['Province/State', 'Country/Region', 'Lat', 'Long'], var_name='Date', value_name='Confirmed')\n",
        "death_data_long = death_data.melt(id_vars=['Province/State', 'Country/Region', 'Lat', 'Long'], var_name='Date', value_name='Deaths')\n",
        "recovered_data_long = recovered_data.melt(id_vars=['Province/State', 'Country/Region', 'Lat', 'Long'], var_name='Date', value_name='Recovered')"
      ],
      "metadata": {
        "id": "94epuVd2bLDB"
      },
      "execution_count": null,
      "outputs": []
    },
    {
      "cell_type": "code",
      "source": [
        "# Convert the date column to datetime format\n",
        "confirmed_data_long['Date'] = pd.to_datetime(confirmed_data_long['Date'])\n",
        "death_data_long['Date'] = pd.to_datetime(death_data_long['Date'])\n",
        "recovered_data_long['Date'] = pd.to_datetime(recovered_data_long['Date'])"
      ],
      "metadata": {
        "colab": {
          "base_uri": "https://localhost:8080/"
        },
        "id": "si2TCrozbLA8",
        "outputId": "12c9c659-91e9-450d-fbd0-b8e14f2f2e2c"
      },
      "execution_count": null,
      "outputs": [
        {
          "output_type": "stream",
          "name": "stderr",
          "text": [
            "<ipython-input-30-7cf11c2f3cec>:3: UserWarning: Could not infer format, so each element will be parsed individually, falling back to `dateutil`. To ensure parsing is consistent and as-expected, please specify a format.\n",
            "  death_data_long['Date'] = pd.to_datetime(death_data_long['Date'])\n",
            "<ipython-input-30-7cf11c2f3cec>:4: UserWarning: Could not infer format, so each element will be parsed individually, falling back to `dateutil`. To ensure parsing is consistent and as-expected, please specify a format.\n",
            "  recovered_data_long['Date'] = pd.to_datetime(recovered_data_long['Date'])\n"
          ]
        }
      ]
    },
    {
      "cell_type": "code",
      "source": [
        "# Aggregate data by date\n",
        "confirmed_cases = confirmed_data_long.groupby('Date')['Confirmed'].sum()\n",
        "death_cases = death_data_long.groupby('Date')['Deaths'].sum()\n",
        "recovered_cases = recovered_data_long.groupby('Date')['Recovered'].sum()"
      ],
      "metadata": {
        "id": "nXV-I2DMbK-F"
      },
      "execution_count": null,
      "outputs": []
    },
    {
      "cell_type": "code",
      "source": [
        "# Filter the data based on the start and end dates\n",
        "start_date = '01/02/2020'\n",
        "end_date = '30/11/2020'\n",
        "confirmed_cases = confirmed_cases.loc[start_date:end_date]\n",
        "death_cases = death_cases.loc[start_date:end_date]\n",
        "recovered_cases = recovered_cases.loc[start_date:end_date]"
      ],
      "metadata": {
        "id": "s0YFVUU7bK6F"
      },
      "execution_count": null,
      "outputs": []
    },
    {
      "cell_type": "code",
      "source": [
        "# Plot the data\n",
        "plt.figure(figsize=(10, 6))\n",
        "plt.plot(confirmed_cases.index, confirmed_cases.values, label='Confirmed Cases', linestyle='--')\n",
        "plt.plot(recovered_cases.index, recovered_cases.values, label='Recovered Cases', linestyle='--')\n",
        "plt.plot(death_cases.index, death_cases.values, label='Death Cases', linestyle='--')\n",
        "plt.xlabel('Time')\n",
        "plt.title('Monthly Increases')\n",
        "plt.legend()\n",
        "plt.grid(True)\n",
        "plt.show()"
      ],
      "metadata": {
        "colab": {
          "base_uri": "https://localhost:8080/",
          "height": 564
        },
        "id": "CWDVY41kbK3O",
        "outputId": "fd976678-23ab-4741-a5ae-9c053d20fe14"
      },
      "execution_count": null,
      "outputs": [
        {
          "output_type": "display_data",
          "data": {
            "text/plain": [
              "<Figure size 1000x600 with 1 Axes>"
            ],
            "image/png": "[encoded data removed]"
          },
          "metadata": {}
        }
      ]
    },
    {
      "cell_type": "code",
      "source": [],
      "metadata": {
        "id": "Xn0FIe2ubK0D"
      },
      "execution_count": null,
      "outputs": []
    },
    {
      "cell_type": "code",
      "source": [],
      "metadata": {
        "id": "BEG0qU7MbKwy"
      },
      "execution_count": null,
      "outputs": []
    },
    {
      "cell_type": "code",
      "source": [],
      "metadata": {
        "id": "ybzqG4tDbKuB"
      },
      "execution_count": null,
      "outputs": []
    },
    {
      "cell_type": "code",
      "source": [],
      "metadata": {
        "id": "Gac4eRdAwyHy"
      },
      "execution_count": null,
      "outputs": []
    },
    {
      "cell_type": "code",
      "source": [],
      "metadata": {
        "id": "2z7ZLGM2xn3O"
      },
      "execution_count": null,
      "outputs": []
    }
  ],
  "metadata": {
    "colab": {
      "provenance": []
    },
    "kernelspec": {
      "display_name": "Python 3",
      "name": "python3"
    }
  },
  "nbformat": 4,
  "nbformat_minor": 0
}